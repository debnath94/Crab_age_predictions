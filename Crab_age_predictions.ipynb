{
 "cells": [
  {
   "cell_type": "code",
   "execution_count": 15,
   "id": "5f105e70",
   "metadata": {},
   "outputs": [],
   "source": [
    "import pandas as pd\n",
    "import numpy as np\n",
    "import seaborn as sns\n",
    "import matplotlib. pylab as plt\n",
    "import pylab\n",
    "import scipy. stats as stats\n",
    "import warnings"
   ]
  },
  {
   "cell_type": "code",
   "execution_count": 6,
   "id": "112a874c",
   "metadata": {},
   "outputs": [],
   "source": [
    "df = pd. read_csv(\"crabage_train.csv\")"
   ]
  },
  {
   "cell_type": "code",
   "execution_count": 7,
   "id": "ccb5c935",
   "metadata": {},
   "outputs": [
    {
     "data": {
      "text/html": [
       "<div>\n",
       "<style scoped>\n",
       "    .dataframe tbody tr th:only-of-type {\n",
       "        vertical-align: middle;\n",
       "    }\n",
       "\n",
       "    .dataframe tbody tr th {\n",
       "        vertical-align: top;\n",
       "    }\n",
       "\n",
       "    .dataframe thead th {\n",
       "        text-align: right;\n",
       "    }\n",
       "</style>\n",
       "<table border=\"1\" class=\"dataframe\">\n",
       "  <thead>\n",
       "    <tr style=\"text-align: right;\">\n",
       "      <th></th>\n",
       "      <th>id</th>\n",
       "      <th>Sex</th>\n",
       "      <th>Length</th>\n",
       "      <th>Diameter</th>\n",
       "      <th>Height</th>\n",
       "      <th>Weight</th>\n",
       "      <th>Shucked Weight</th>\n",
       "      <th>Viscera Weight</th>\n",
       "      <th>Shell Weight</th>\n",
       "      <th>Age</th>\n",
       "    </tr>\n",
       "  </thead>\n",
       "  <tbody>\n",
       "    <tr>\n",
       "      <th>0</th>\n",
       "      <td>0</td>\n",
       "      <td>I</td>\n",
       "      <td>1.5250</td>\n",
       "      <td>1.1750</td>\n",
       "      <td>0.3750</td>\n",
       "      <td>28.973189</td>\n",
       "      <td>12.728926</td>\n",
       "      <td>6.647958</td>\n",
       "      <td>8.348928</td>\n",
       "      <td>9</td>\n",
       "    </tr>\n",
       "    <tr>\n",
       "      <th>1</th>\n",
       "      <td>1</td>\n",
       "      <td>I</td>\n",
       "      <td>1.1000</td>\n",
       "      <td>0.8250</td>\n",
       "      <td>0.2750</td>\n",
       "      <td>10.418441</td>\n",
       "      <td>4.521745</td>\n",
       "      <td>2.324659</td>\n",
       "      <td>3.401940</td>\n",
       "      <td>8</td>\n",
       "    </tr>\n",
       "    <tr>\n",
       "      <th>2</th>\n",
       "      <td>2</td>\n",
       "      <td>M</td>\n",
       "      <td>1.3875</td>\n",
       "      <td>1.1125</td>\n",
       "      <td>0.3750</td>\n",
       "      <td>24.777463</td>\n",
       "      <td>11.339800</td>\n",
       "      <td>5.556502</td>\n",
       "      <td>6.662133</td>\n",
       "      <td>9</td>\n",
       "    </tr>\n",
       "    <tr>\n",
       "      <th>3</th>\n",
       "      <td>3</td>\n",
       "      <td>F</td>\n",
       "      <td>1.7000</td>\n",
       "      <td>1.4125</td>\n",
       "      <td>0.5000</td>\n",
       "      <td>50.660556</td>\n",
       "      <td>20.354941</td>\n",
       "      <td>10.991839</td>\n",
       "      <td>14.996885</td>\n",
       "      <td>11</td>\n",
       "    </tr>\n",
       "    <tr>\n",
       "      <th>4</th>\n",
       "      <td>4</td>\n",
       "      <td>I</td>\n",
       "      <td>1.2500</td>\n",
       "      <td>1.0125</td>\n",
       "      <td>0.3375</td>\n",
       "      <td>23.289114</td>\n",
       "      <td>11.977664</td>\n",
       "      <td>4.507570</td>\n",
       "      <td>5.953395</td>\n",
       "      <td>8</td>\n",
       "    </tr>\n",
       "  </tbody>\n",
       "</table>\n",
       "</div>"
      ],
      "text/plain": [
       "   id Sex  Length  Diameter  Height     Weight  Shucked Weight  \\\n",
       "0   0   I  1.5250    1.1750  0.3750  28.973189       12.728926   \n",
       "1   1   I  1.1000    0.8250  0.2750  10.418441        4.521745   \n",
       "2   2   M  1.3875    1.1125  0.3750  24.777463       11.339800   \n",
       "3   3   F  1.7000    1.4125  0.5000  50.660556       20.354941   \n",
       "4   4   I  1.2500    1.0125  0.3375  23.289114       11.977664   \n",
       "\n",
       "   Viscera Weight  Shell Weight  Age  \n",
       "0        6.647958      8.348928    9  \n",
       "1        2.324659      3.401940    8  \n",
       "2        5.556502      6.662133    9  \n",
       "3       10.991839     14.996885   11  \n",
       "4        4.507570      5.953395    8  "
      ]
     },
     "execution_count": 7,
     "metadata": {},
     "output_type": "execute_result"
    }
   ],
   "source": [
    "df. head()"
   ]
  },
  {
   "cell_type": "code",
   "execution_count": 8,
   "id": "77a3ea0f",
   "metadata": {},
   "outputs": [
    {
     "name": "stdout",
     "output_type": "stream",
     "text": [
      "<class 'pandas.core.frame.DataFrame'>\n",
      "RangeIndex: 74051 entries, 0 to 74050\n",
      "Data columns (total 10 columns):\n",
      " #   Column          Non-Null Count  Dtype  \n",
      "---  ------          --------------  -----  \n",
      " 0   id              74051 non-null  int64  \n",
      " 1   Sex             74051 non-null  object \n",
      " 2   Length          74051 non-null  float64\n",
      " 3   Diameter        74051 non-null  float64\n",
      " 4   Height          74051 non-null  float64\n",
      " 5   Weight          74051 non-null  float64\n",
      " 6   Shucked Weight  74051 non-null  float64\n",
      " 7   Viscera Weight  74051 non-null  float64\n",
      " 8   Shell Weight    74051 non-null  float64\n",
      " 9   Age             74051 non-null  int64  \n",
      "dtypes: float64(7), int64(2), object(1)\n",
      "memory usage: 5.6+ MB\n"
     ]
    }
   ],
   "source": [
    "df. info()"
   ]
  },
  {
   "cell_type": "code",
   "execution_count": 9,
   "id": "95d81a0e",
   "metadata": {},
   "outputs": [
    {
     "data": {
      "text/plain": [
       "id                  int64\n",
       "Sex                object\n",
       "Length            float64\n",
       "Diameter          float64\n",
       "Height            float64\n",
       "Weight            float64\n",
       "Shucked Weight    float64\n",
       "Viscera Weight    float64\n",
       "Shell Weight      float64\n",
       "Age                 int64\n",
       "dtype: object"
      ]
     },
     "execution_count": 9,
     "metadata": {},
     "output_type": "execute_result"
    }
   ],
   "source": [
    "df.dtypes"
   ]
  },
  {
   "cell_type": "code",
   "execution_count": 11,
   "id": "9cb6f000",
   "metadata": {},
   "outputs": [
    {
     "data": {
      "text/plain": [
       "0"
      ]
     },
     "execution_count": 11,
     "metadata": {},
     "output_type": "execute_result"
    }
   ],
   "source": [
    "df. duplicated(). sum()"
   ]
  },
  {
   "cell_type": "code",
   "execution_count": 12,
   "id": "b4d68b4d",
   "metadata": {},
   "outputs": [
    {
     "data": {
      "text/plain": [
       "id                0\n",
       "Sex               0\n",
       "Length            0\n",
       "Diameter          0\n",
       "Height            0\n",
       "Weight            0\n",
       "Shucked Weight    0\n",
       "Viscera Weight    0\n",
       "Shell Weight      0\n",
       "Age               0\n",
       "dtype: int64"
      ]
     },
     "execution_count": 12,
     "metadata": {},
     "output_type": "execute_result"
    }
   ],
   "source": [
    "df. isna(). sum()"
   ]
  },
  {
   "cell_type": "code",
   "execution_count": 13,
   "id": "e26e8e28",
   "metadata": {},
   "outputs": [],
   "source": [
    "df = df. drop([\"id\"], axis = 1)"
   ]
  },
  {
   "cell_type": "code",
   "execution_count": 16,
   "id": "587e4dd7",
   "metadata": {},
   "outputs": [
    {
     "name": "stderr",
     "output_type": "stream",
     "text": [
      "C:\\Users\\debna\\AppData\\Local\\Temp\\ipykernel_12156\\1165822174.py:1: FutureWarning: Dropping of nuisance columns in DataFrame reductions (with 'numeric_only=None') is deprecated; in a future version this will raise TypeError.  Select only valid columns before calling the reduction.\n",
      "  df. mean()\n"
     ]
    },
    {
     "data": {
      "text/plain": [
       "Length             1.317460\n",
       "Diameter           1.024496\n",
       "Height             0.348089\n",
       "Weight            23.385217\n",
       "Shucked Weight    10.104270\n",
       "Viscera Weight     5.058386\n",
       "Shell Weight       6.723870\n",
       "Age                9.967806\n",
       "dtype: float64"
      ]
     },
     "execution_count": 16,
     "metadata": {},
     "output_type": "execute_result"
    }
   ],
   "source": [
    "df. mean()"
   ]
  },
  {
   "cell_type": "code",
   "execution_count": 17,
   "id": "0a58be62",
   "metadata": {},
   "outputs": [
    {
     "data": {
      "text/plain": [
       "0    M\n",
       "Name: Sex, dtype: object"
      ]
     },
     "execution_count": 17,
     "metadata": {},
     "output_type": "execute_result"
    }
   ],
   "source": [
    "df.Sex. mode()"
   ]
  },
  {
   "cell_type": "code",
   "execution_count": 18,
   "id": "3fb905be",
   "metadata": {},
   "outputs": [
    {
     "name": "stderr",
     "output_type": "stream",
     "text": [
      "C:\\Users\\debna\\AppData\\Local\\Temp\\ipykernel_12156\\2146112387.py:1: FutureWarning: Dropping of nuisance columns in DataFrame reductions (with 'numeric_only=None') is deprecated; in a future version this will raise TypeError.  Select only valid columns before calling the reduction.\n",
      "  df. var()\n"
     ]
    },
    {
     "data": {
      "text/plain": [
       "Length              0.082804\n",
       "Diameter            0.056357\n",
       "Height              0.008470\n",
       "Weight            159.975774\n",
       "Shucked Weight     31.562209\n",
       "Viscera Weight      7.799334\n",
       "Shell Weight       12.847723\n",
       "Age                10.081826\n",
       "dtype: float64"
      ]
     },
     "execution_count": 18,
     "metadata": {},
     "output_type": "execute_result"
    }
   ],
   "source": [
    "df. var()"
   ]
  },
  {
   "cell_type": "code",
   "execution_count": 19,
   "id": "99b67b04",
   "metadata": {},
   "outputs": [
    {
     "name": "stderr",
     "output_type": "stream",
     "text": [
      "C:\\Users\\debna\\AppData\\Local\\Temp\\ipykernel_12156\\1330452554.py:1: FutureWarning: Dropping of nuisance columns in DataFrame reductions (with 'numeric_only=None') is deprecated; in a future version this will raise TypeError.  Select only valid columns before calling the reduction.\n",
      "  df. std()\n"
     ]
    },
    {
     "data": {
      "text/plain": [
       "Length             0.287757\n",
       "Diameter           0.237396\n",
       "Height             0.092034\n",
       "Weight            12.648153\n",
       "Shucked Weight     5.618025\n",
       "Viscera Weight     2.792729\n",
       "Shell Weight       3.584372\n",
       "Age                3.175189\n",
       "dtype: float64"
      ]
     },
     "execution_count": 19,
     "metadata": {},
     "output_type": "execute_result"
    }
   ],
   "source": [
    "df. std()"
   ]
  },
  {
   "cell_type": "code",
   "execution_count": 20,
   "id": "c424464f",
   "metadata": {},
   "outputs": [
    {
     "name": "stderr",
     "output_type": "stream",
     "text": [
      "C:\\Users\\debna\\AppData\\Local\\Temp\\ipykernel_12156\\1316092097.py:1: FutureWarning: Dropping of nuisance columns in DataFrame reductions (with 'numeric_only=None') is deprecated; in a future version this will raise TypeError.  Select only valid columns before calling the reduction.\n",
      "  df. skew(axis = 0, skipna = True)\n"
     ]
    },
    {
     "data": {
      "text/plain": [
       "Length           -0.844377\n",
       "Diameter         -0.812866\n",
       "Height            0.086578\n",
       "Weight            0.231465\n",
       "Shucked Weight    0.349472\n",
       "Viscera Weight    0.286383\n",
       "Shell Weight      0.277459\n",
       "Age               1.092919\n",
       "dtype: float64"
      ]
     },
     "execution_count": 20,
     "metadata": {},
     "output_type": "execute_result"
    }
   ],
   "source": [
    "df. skew(axis = 0, skipna = True)"
   ]
  },
  {
   "cell_type": "code",
   "execution_count": 21,
   "id": "ad618aff",
   "metadata": {},
   "outputs": [
    {
     "name": "stderr",
     "output_type": "stream",
     "text": [
      "C:\\Users\\debna\\AppData\\Local\\Temp\\ipykernel_12156\\2228098882.py:1: FutureWarning: Dropping of nuisance columns in DataFrame reductions (with 'numeric_only=None') is deprecated; in a future version this will raise TypeError.  Select only valid columns before calling the reduction.\n",
      "  df. kurtosis(axis = 0, skipna = True)\n"
     ]
    },
    {
     "data": {
      "text/plain": [
       "Length             0.291767\n",
       "Diameter           0.177278\n",
       "Height            14.153342\n",
       "Weight            -0.401799\n",
       "Shucked Weight    -0.119074\n",
       "Viscera Weight    -0.365303\n",
       "Shell Weight      -0.142415\n",
       "Age                2.296641\n",
       "dtype: float64"
      ]
     },
     "execution_count": 21,
     "metadata": {},
     "output_type": "execute_result"
    }
   ],
   "source": [
    "df. kurtosis(axis = 0, skipna = True)"
   ]
  },
  {
   "cell_type": "code",
   "execution_count": 22,
   "id": "fd30f03b",
   "metadata": {},
   "outputs": [
    {
     "data": {
      "text/plain": [
       "<AxesSubplot: title={'center': 'Age Distribution'}, ylabel='Density'>"
      ]
     },
     "execution_count": 22,
     "metadata": {},
     "output_type": "execute_result"
    },
    {
     "data": {
      "image/png": "[encoded data removed]",
      "text/plain": [
       "<Figure size 600x600 with 1 Axes>"
      ]
     },
     "metadata": {},
     "output_type": "display_data"
    }
   ],
   "source": [
    "# checking the distribution of age columns\n",
    "df. Age. plot(kind = 'kde',figsize = (6,6),legend = True, title = 'Age Distribution')"
   ]
  },
  {
   "cell_type": "code",
   "execution_count": 25,
   "id": "923496d2",
   "metadata": {},
   "outputs": [
    {
     "data": {
      "text/plain": [
       "(array([   53.,  1133.,  2370.,  4518.,  7873., 11505., 19879., 21028.,\n",
       "         5437.,   255.]),\n",
       " array([0.1875    , 0.37003145, 0.5525629 , 0.73509435, 0.9176258 ,\n",
       "        1.10015725, 1.2826887 , 1.46522015, 1.6477516 , 1.83028305,\n",
       "        2.0128145 ]),\n",
       " <BarContainer object of 10 artists>)"
      ]
     },
     "execution_count": 25,
     "metadata": {},
     "output_type": "execute_result"
    },
    {
     "data": {
      "image/png": "[encoded data removed]",
      "text/plain": [
       "<Figure size 640x480 with 1 Axes>"
      ]
     },
     "metadata": {},
     "output_type": "display_data"
    }
   ],
   "source": [
    "plt. hist(df. Length)"
   ]
  },
  {
   "cell_type": "code",
   "execution_count": 26,
   "id": "eea27bff",
   "metadata": {},
   "outputs": [
    {
     "data": {
      "text/plain": [
       "(array([  243.,  7393., 29013., 24973.,  6025.,  4129.,  1696.,   459.,\n",
       "           69.,    51.]),\n",
       " array([ 1. ,  3.8,  6.6,  9.4, 12.2, 15. , 17.8, 20.6, 23.4, 26.2, 29. ]),\n",
       " <BarContainer object of 10 artists>)"
      ]
     },
     "execution_count": 26,
     "metadata": {},
     "output_type": "execute_result"
    },
    {
     "data": {
      "image/png": "[encoded data removed]",
      "text/plain": [
       "<Figure size 640x480 with 1 Axes>"
      ]
     },
     "metadata": {},
     "output_type": "display_data"
    }
   ],
   "source": [
    "plt. hist(df. Age)"
   ]
  },
  {
   "cell_type": "code",
   "execution_count": 27,
   "id": "d85abc33",
   "metadata": {},
   "outputs": [
    {
     "data": {
      "text/plain": [
       "(array([  144.,  1242.,  3035.,  5993.,  6332., 14069., 18852., 20777.,\n",
       "         3497.,   110.]),\n",
       " array([0.1375, 0.285 , 0.4325, 0.58  , 0.7275, 0.875 , 1.0225, 1.17  ,\n",
       "        1.3175, 1.465 , 1.6125]),\n",
       " <BarContainer object of 10 artists>)"
      ]
     },
     "execution_count": 27,
     "metadata": {},
     "output_type": "execute_result"
    },
    {
     "data": {
      "image/png": "[encoded data removed]",
      "text/plain": [
       "<Figure size 640x480 with 1 Axes>"
      ]
     },
     "metadata": {},
     "output_type": "display_data"
    }
   ],
   "source": [
    "plt. hist(df. Diameter)"
   ]
  },
  {
   "cell_type": "code",
   "execution_count": 28,
   "id": "baddbf83",
   "metadata": {},
   "outputs": [
    {
     "data": {
      "text/plain": [
       "(array([1.6828e+04, 5.7092e+04, 1.2800e+02, 0.0000e+00, 1.0000e+00,\n",
       "        0.0000e+00, 0.0000e+00, 0.0000e+00, 0.0000e+00, 2.0000e+00]),\n",
       " array([0.    , 0.2825, 0.565 , 0.8475, 1.13  , 1.4125, 1.695 , 1.9775,\n",
       "        2.26  , 2.5425, 2.825 ]),\n",
       " <BarContainer object of 10 artists>)"
      ]
     },
     "execution_count": 28,
     "metadata": {},
     "output_type": "execute_result"
    },
    {
     "data": {
      "image/png": "[encoded data removed]",
      "text/plain": [
       "<Figure size 640x480 with 1 Axes>"
      ]
     },
     "metadata": {},
     "output_type": "display_data"
    }
   ],
   "source": [
    "plt. hist(df. Height)"
   ]
  },
  {
   "cell_type": "code",
   "execution_count": 29,
   "id": "0b262c87",
   "metadata": {},
   "outputs": [
    {
     "name": "stdout",
     "output_type": "stream",
     "text": [
      "<class 'pandas.core.frame.DataFrame'>\n",
      "RangeIndex: 74051 entries, 0 to 74050\n",
      "Data columns (total 9 columns):\n",
      " #   Column          Non-Null Count  Dtype  \n",
      "---  ------          --------------  -----  \n",
      " 0   Sex             74051 non-null  object \n",
      " 1   Length          74051 non-null  float64\n",
      " 2   Diameter        74051 non-null  float64\n",
      " 3   Height          74051 non-null  float64\n",
      " 4   Weight          74051 non-null  float64\n",
      " 5   Shucked Weight  74051 non-null  float64\n",
      " 6   Viscera Weight  74051 non-null  float64\n",
      " 7   Shell Weight    74051 non-null  float64\n",
      " 8   Age             74051 non-null  int64  \n",
      "dtypes: float64(7), int64(1), object(1)\n",
      "memory usage: 5.1+ MB\n"
     ]
    }
   ],
   "source": [
    "df. info()"
   ]
  },
  {
   "cell_type": "code",
   "execution_count": 33,
   "id": "4d313b49",
   "metadata": {},
   "outputs": [],
   "source": [
    "##outlier checking\n",
    "# Select the columns you want to analyze for outliers\n",
    "columns_of_interest = ['Length', 'Diameter', 'Height', 'Weight', 'Shucked Weight', 'Viscera Weight', 'Shell Weight', 'Age']"
   ]
  },
  {
   "cell_type": "code",
   "execution_count": 34,
   "id": "d30da795",
   "metadata": {},
   "outputs": [
    {
     "data": {
      "image/png": "[encoded data removed]",
      "text/plain": [
       "<Figure size 640x480 with 1 Axes>"
      ]
     },
     "metadata": {},
     "output_type": "display_data"
    },
    {
     "data": {
      "image/png": "[encoded data removed]",
      "text/plain": [
       "<Figure size 640x480 with 1 Axes>"
      ]
     },
     "metadata": {},
     "output_type": "display_data"
    },
    {
     "data": {
      "image/png": "[encoded data removed]",
      "text/plain": [
       "<Figure size 640x480 with 1 Axes>"
      ]
     },
     "metadata": {},
     "output_type": "display_data"
    },
    {
     "data": {
      "image/png": "[encoded data removed]",
      "text/plain": [
       "<Figure size 640x480 with 1 Axes>"
      ]
     },
     "metadata": {},
     "output_type": "display_data"
    },
    {
     "data": {
      "image/png": "[encoded data removed]",
      "text/plain": [
       "<Figure size 640x480 with 1 Axes>"
      ]
     },
     "metadata": {},
     "output_type": "display_data"
    },
    {
     "data": {
      "image/png": "[encoded data removed]",
      "text/plain": [
       "<Figure size 640x480 with 1 Axes>"
      ]
     },
     "metadata": {},
     "output_type": "display_data"
    },
    {
     "data": {
      "image/png": "[encoded data removed]",
      "text/plain": [
       "<Figure size 640x480 with 1 Axes>"
      ]
     },
     "metadata": {},
     "output_type": "display_data"
    },
    {
     "data": {
      "image/png": "[encoded data removed]",
      "text/plain": [
       "<Figure size 640x480 with 1 Axes>"
      ]
     },
     "metadata": {},
     "output_type": "display_data"
    }
   ],
   "source": [
    "# Create a box plot for each column\n",
    "for column in columns_of_interest:\n",
    "    plt.figure()  # Create a new figure for each box plot\n",
    "    df.boxplot(column=column)\n",
    "    plt.title(column)  # Set the title of the box plot as the column name\n",
    "\n",
    "plt.show()  # Display all the box plots together"
   ]
  },
  {
   "cell_type": "code",
   "execution_count": 35,
   "id": "46112faf",
   "metadata": {},
   "outputs": [],
   "source": [
    "from scipy.stats.mstats import winsorize\n",
    "columns_of_interest = ['Length', 'Diameter', 'Height', 'Weight', 'Shucked Weight', 'Viscera Weight', 'Shell Weight', 'Age']"
   ]
  },
  {
   "cell_type": "code",
   "execution_count": 36,
   "id": "67d2ff0d",
   "metadata": {},
   "outputs": [],
   "source": [
    "# Perform Winsorization on each column\n",
    "for column in columns_of_interest:\n",
    "    # Apply Winsorization at a specific percentile (e.g., 5% on each tail)\n",
    "    winsorized_data = winsorize(df[column], limits=[0.05, 0.05])\n",
    "    \n",
    "    # Replace the original column with the Winsorized values\n",
    "    df[column] = winsorized_data"
   ]
  },
  {
   "cell_type": "code",
   "execution_count": 38,
   "id": "8b12bf36",
   "metadata": {},
   "outputs": [
    {
     "name": "stdout",
     "output_type": "stream",
     "text": [
      "      Sex  Length  Diameter  Height     Weight  Shucked Weight  \\\n",
      "0       I  1.5250    1.1750  0.3750  28.973189       12.728926   \n",
      "1       I  1.1000    0.8250  0.2750  10.418441        4.521745   \n",
      "2       M  1.3875    1.1125  0.3750  24.777463       11.339800   \n",
      "3       F  1.6750    1.3125  0.4750  44.211045       19.376883   \n",
      "4       I  1.2500    1.0125  0.3375  23.289114       11.977664   \n",
      "...    ..     ...       ...     ...        ...             ...   \n",
      "74046   F  1.6625    1.2625  0.4375  44.211045       19.376883   \n",
      "74047   I  1.0750    0.8625  0.2750  10.446791        4.323299   \n",
      "74048   F  1.4875    1.2000  0.4125  29.483480       12.303683   \n",
      "74049   I  1.2125    0.9625  0.3125  16.768729        8.972617   \n",
      "74050   I  0.9125    0.6750  0.2000   5.386405        2.055339   \n",
      "\n",
      "       Viscera Weight  Shell Weight  Age  \n",
      "0            6.647958      8.348928    9  \n",
      "1            2.324659      3.401940    8  \n",
      "2            5.556502      6.662133    9  \n",
      "3            9.738053     12.757275   11  \n",
      "4            4.507570      5.953395    8  \n",
      "...               ...           ...  ...  \n",
      "74046        9.738053     12.332033   10  \n",
      "74047        2.296310      3.543687    6  \n",
      "74048        7.540967      8.079607   10  \n",
      "74049        2.919999      4.280774    8  \n",
      "74050        1.034757      1.700970    6  \n",
      "\n",
      "[74051 rows x 9 columns]\n"
     ]
    }
   ],
   "source": [
    "# Print the updated DataFrame\n",
    "print(df)"
   ]
  },
  {
   "cell_type": "code",
   "execution_count": 39,
   "id": "b9a6a3f9",
   "metadata": {},
   "outputs": [
    {
     "data": {
      "text/plain": [
       "<AxesSubplot: >"
      ]
     },
     "execution_count": 39,
     "metadata": {},
     "output_type": "execute_result"
    },
    {
     "data": {
      "image/png": "[encoded data removed]",
      "text/plain": [
       "<Figure size 640x480 with 1 Axes>"
      ]
     },
     "metadata": {},
     "output_type": "display_data"
    }
   ],
   "source": [
    "sns. boxplot(df. Length)"
   ]
  },
  {
   "cell_type": "code",
   "execution_count": 40,
   "id": "f65fc22b",
   "metadata": {},
   "outputs": [
    {
     "data": {
      "image/png": "[encoded data removed]",
      "text/plain": [
       "<Figure size 640x480 with 1 Axes>"
      ]
     },
     "metadata": {},
     "output_type": "display_data"
    }
   ],
   "source": [
    "stats. probplot(df['Age'], dist = 'norm', plot = pylab); plt. show()"
   ]
  },
  {
   "cell_type": "code",
   "execution_count": 41,
   "id": "c11d5912",
   "metadata": {},
   "outputs": [
    {
     "data": {
      "image/png": "[encoded data removed]",
      "text/plain": [
       "<Figure size 640x480 with 1 Axes>"
      ]
     },
     "metadata": {},
     "output_type": "display_data"
    }
   ],
   "source": [
    "stats. probplot(df['Length'], dist = 'norm', plot = pylab); plt. show()"
   ]
  },
  {
   "cell_type": "code",
   "execution_count": 43,
   "id": "a05a3035",
   "metadata": {},
   "outputs": [
    {
     "data": {
      "text/plain": [
       "M    27084\n",
       "I    23957\n",
       "F    23010\n",
       "Name: Sex, dtype: int64"
      ]
     },
     "execution_count": 43,
     "metadata": {},
     "output_type": "execute_result"
    }
   ],
   "source": [
    "df. Sex. value_counts()"
   ]
  },
  {
   "cell_type": "code",
   "execution_count": 47,
   "id": "5d143a8d",
   "metadata": {},
   "outputs": [],
   "source": [
    "# Create a mapping dictionary\n",
    "mapping = {'M': 1, 'I': 2, 'F': 3}"
   ]
  },
  {
   "cell_type": "code",
   "execution_count": 48,
   "id": "b3cb7958",
   "metadata": {},
   "outputs": [],
   "source": [
    "# Apply the map function to convert the categorical column to numerical\n",
    "df['Sex'] = df['Sex'].map(mapping)"
   ]
  },
  {
   "cell_type": "code",
   "execution_count": 49,
   "id": "2f748c52",
   "metadata": {},
   "outputs": [
    {
     "data": {
      "text/html": [
       "<div>\n",
       "<style scoped>\n",
       "    .dataframe tbody tr th:only-of-type {\n",
       "        vertical-align: middle;\n",
       "    }\n",
       "\n",
       "    .dataframe tbody tr th {\n",
       "        vertical-align: top;\n",
       "    }\n",
       "\n",
       "    .dataframe thead th {\n",
       "        text-align: right;\n",
       "    }\n",
       "</style>\n",
       "<table border=\"1\" class=\"dataframe\">\n",
       "  <thead>\n",
       "    <tr style=\"text-align: right;\">\n",
       "      <th></th>\n",
       "      <th>Sex</th>\n",
       "      <th>Length</th>\n",
       "      <th>Diameter</th>\n",
       "      <th>Height</th>\n",
       "      <th>Weight</th>\n",
       "      <th>Shucked Weight</th>\n",
       "      <th>Viscera Weight</th>\n",
       "      <th>Shell Weight</th>\n",
       "      <th>Age</th>\n",
       "    </tr>\n",
       "  </thead>\n",
       "  <tbody>\n",
       "    <tr>\n",
       "      <th>0</th>\n",
       "      <td>2</td>\n",
       "      <td>1.5250</td>\n",
       "      <td>1.1750</td>\n",
       "      <td>0.3750</td>\n",
       "      <td>28.973189</td>\n",
       "      <td>12.728926</td>\n",
       "      <td>6.647958</td>\n",
       "      <td>8.348928</td>\n",
       "      <td>9</td>\n",
       "    </tr>\n",
       "    <tr>\n",
       "      <th>1</th>\n",
       "      <td>2</td>\n",
       "      <td>1.1000</td>\n",
       "      <td>0.8250</td>\n",
       "      <td>0.2750</td>\n",
       "      <td>10.418441</td>\n",
       "      <td>4.521745</td>\n",
       "      <td>2.324659</td>\n",
       "      <td>3.401940</td>\n",
       "      <td>8</td>\n",
       "    </tr>\n",
       "    <tr>\n",
       "      <th>2</th>\n",
       "      <td>1</td>\n",
       "      <td>1.3875</td>\n",
       "      <td>1.1125</td>\n",
       "      <td>0.3750</td>\n",
       "      <td>24.777463</td>\n",
       "      <td>11.339800</td>\n",
       "      <td>5.556502</td>\n",
       "      <td>6.662133</td>\n",
       "      <td>9</td>\n",
       "    </tr>\n",
       "    <tr>\n",
       "      <th>3</th>\n",
       "      <td>3</td>\n",
       "      <td>1.6750</td>\n",
       "      <td>1.3125</td>\n",
       "      <td>0.4750</td>\n",
       "      <td>44.211045</td>\n",
       "      <td>19.376883</td>\n",
       "      <td>9.738053</td>\n",
       "      <td>12.757275</td>\n",
       "      <td>11</td>\n",
       "    </tr>\n",
       "    <tr>\n",
       "      <th>4</th>\n",
       "      <td>2</td>\n",
       "      <td>1.2500</td>\n",
       "      <td>1.0125</td>\n",
       "      <td>0.3375</td>\n",
       "      <td>23.289114</td>\n",
       "      <td>11.977664</td>\n",
       "      <td>4.507570</td>\n",
       "      <td>5.953395</td>\n",
       "      <td>8</td>\n",
       "    </tr>\n",
       "    <tr>\n",
       "      <th>...</th>\n",
       "      <td>...</td>\n",
       "      <td>...</td>\n",
       "      <td>...</td>\n",
       "      <td>...</td>\n",
       "      <td>...</td>\n",
       "      <td>...</td>\n",
       "      <td>...</td>\n",
       "      <td>...</td>\n",
       "      <td>...</td>\n",
       "    </tr>\n",
       "    <tr>\n",
       "      <th>74046</th>\n",
       "      <td>3</td>\n",
       "      <td>1.6625</td>\n",
       "      <td>1.2625</td>\n",
       "      <td>0.4375</td>\n",
       "      <td>44.211045</td>\n",
       "      <td>19.376883</td>\n",
       "      <td>9.738053</td>\n",
       "      <td>12.332033</td>\n",
       "      <td>10</td>\n",
       "    </tr>\n",
       "    <tr>\n",
       "      <th>74047</th>\n",
       "      <td>2</td>\n",
       "      <td>1.0750</td>\n",
       "      <td>0.8625</td>\n",
       "      <td>0.2750</td>\n",
       "      <td>10.446791</td>\n",
       "      <td>4.323299</td>\n",
       "      <td>2.296310</td>\n",
       "      <td>3.543687</td>\n",
       "      <td>6</td>\n",
       "    </tr>\n",
       "    <tr>\n",
       "      <th>74048</th>\n",
       "      <td>3</td>\n",
       "      <td>1.4875</td>\n",
       "      <td>1.2000</td>\n",
       "      <td>0.4125</td>\n",
       "      <td>29.483480</td>\n",
       "      <td>12.303683</td>\n",
       "      <td>7.540967</td>\n",
       "      <td>8.079607</td>\n",
       "      <td>10</td>\n",
       "    </tr>\n",
       "    <tr>\n",
       "      <th>74049</th>\n",
       "      <td>2</td>\n",
       "      <td>1.2125</td>\n",
       "      <td>0.9625</td>\n",
       "      <td>0.3125</td>\n",
       "      <td>16.768729</td>\n",
       "      <td>8.972617</td>\n",
       "      <td>2.919999</td>\n",
       "      <td>4.280774</td>\n",
       "      <td>8</td>\n",
       "    </tr>\n",
       "    <tr>\n",
       "      <th>74050</th>\n",
       "      <td>2</td>\n",
       "      <td>0.9125</td>\n",
       "      <td>0.6750</td>\n",
       "      <td>0.2000</td>\n",
       "      <td>5.386405</td>\n",
       "      <td>2.055339</td>\n",
       "      <td>1.034757</td>\n",
       "      <td>1.700970</td>\n",
       "      <td>6</td>\n",
       "    </tr>\n",
       "  </tbody>\n",
       "</table>\n",
       "<p>74051 rows × 9 columns</p>\n",
       "</div>"
      ],
      "text/plain": [
       "       Sex  Length  Diameter  Height     Weight  Shucked Weight  \\\n",
       "0        2  1.5250    1.1750  0.3750  28.973189       12.728926   \n",
       "1        2  1.1000    0.8250  0.2750  10.418441        4.521745   \n",
       "2        1  1.3875    1.1125  0.3750  24.777463       11.339800   \n",
       "3        3  1.6750    1.3125  0.4750  44.211045       19.376883   \n",
       "4        2  1.2500    1.0125  0.3375  23.289114       11.977664   \n",
       "...    ...     ...       ...     ...        ...             ...   \n",
       "74046    3  1.6625    1.2625  0.4375  44.211045       19.376883   \n",
       "74047    2  1.0750    0.8625  0.2750  10.446791        4.323299   \n",
       "74048    3  1.4875    1.2000  0.4125  29.483480       12.303683   \n",
       "74049    2  1.2125    0.9625  0.3125  16.768729        8.972617   \n",
       "74050    2  0.9125    0.6750  0.2000   5.386405        2.055339   \n",
       "\n",
       "       Viscera Weight  Shell Weight  Age  \n",
       "0            6.647958      8.348928    9  \n",
       "1            2.324659      3.401940    8  \n",
       "2            5.556502      6.662133    9  \n",
       "3            9.738053     12.757275   11  \n",
       "4            4.507570      5.953395    8  \n",
       "...               ...           ...  ...  \n",
       "74046        9.738053     12.332033   10  \n",
       "74047        2.296310      3.543687    6  \n",
       "74048        7.540967      8.079607   10  \n",
       "74049        2.919999      4.280774    8  \n",
       "74050        1.034757      1.700970    6  \n",
       "\n",
       "[74051 rows x 9 columns]"
      ]
     },
     "execution_count": 49,
     "metadata": {},
     "output_type": "execute_result"
    }
   ],
   "source": [
    "df"
   ]
  },
  {
   "cell_type": "code",
   "execution_count": 50,
   "id": "fc8b8a58",
   "metadata": {},
   "outputs": [
    {
     "name": "stderr",
     "output_type": "stream",
     "text": [
      "C:\\Users\\debna\\anaconda3\\lib\\site-packages\\numpy\\lib\\function_base.py:4691: UserWarning: Warning: 'partition' will ignore the 'mask' of the MaskedArray.\n",
      "  arr.partition(\n",
      "C:\\Users\\debna\\anaconda3\\lib\\site-packages\\numpy\\lib\\function_base.py:4691: UserWarning: Warning: 'partition' will ignore the 'mask' of the MaskedArray.\n",
      "  arr.partition(\n",
      "C:\\Users\\debna\\anaconda3\\lib\\site-packages\\numpy\\lib\\function_base.py:4691: UserWarning: Warning: 'partition' will ignore the 'mask' of the MaskedArray.\n",
      "  arr.partition(\n",
      "C:\\Users\\debna\\anaconda3\\lib\\site-packages\\numpy\\lib\\function_base.py:4691: UserWarning: Warning: 'partition' will ignore the 'mask' of the MaskedArray.\n",
      "  arr.partition(\n",
      "C:\\Users\\debna\\anaconda3\\lib\\site-packages\\numpy\\lib\\function_base.py:4691: UserWarning: Warning: 'partition' will ignore the 'mask' of the MaskedArray.\n",
      "  arr.partition(\n",
      "C:\\Users\\debna\\anaconda3\\lib\\site-packages\\numpy\\lib\\function_base.py:4691: UserWarning: Warning: 'partition' will ignore the 'mask' of the MaskedArray.\n",
      "  arr.partition(\n",
      "C:\\Users\\debna\\anaconda3\\lib\\site-packages\\numpy\\lib\\function_base.py:4691: UserWarning: Warning: 'partition' will ignore the 'mask' of the MaskedArray.\n",
      "  arr.partition(\n",
      "C:\\Users\\debna\\anaconda3\\lib\\site-packages\\numpy\\lib\\function_base.py:4691: UserWarning: Warning: 'partition' will ignore the 'mask' of the MaskedArray.\n",
      "  arr.partition(\n",
      "C:\\Users\\debna\\anaconda3\\lib\\site-packages\\numpy\\lib\\function_base.py:4691: UserWarning: Warning: 'partition' will ignore the 'mask' of the MaskedArray.\n",
      "  arr.partition(\n"
     ]
    },
    {
     "data": {
      "text/html": [
       "<div>\n",
       "<style scoped>\n",
       "    .dataframe tbody tr th:only-of-type {\n",
       "        vertical-align: middle;\n",
       "    }\n",
       "\n",
       "    .dataframe tbody tr th {\n",
       "        vertical-align: top;\n",
       "    }\n",
       "\n",
       "    .dataframe thead th {\n",
       "        text-align: right;\n",
       "    }\n",
       "</style>\n",
       "<table border=\"1\" class=\"dataframe\">\n",
       "  <thead>\n",
       "    <tr style=\"text-align: right;\">\n",
       "      <th></th>\n",
       "      <th>Sex</th>\n",
       "      <th>Length</th>\n",
       "      <th>Diameter</th>\n",
       "      <th>Height</th>\n",
       "      <th>Weight</th>\n",
       "      <th>Shucked Weight</th>\n",
       "      <th>Viscera Weight</th>\n",
       "      <th>Shell Weight</th>\n",
       "      <th>Age</th>\n",
       "    </tr>\n",
       "  </thead>\n",
       "  <tbody>\n",
       "    <tr>\n",
       "      <th>count</th>\n",
       "      <td>74051.000000</td>\n",
       "      <td>74051.000000</td>\n",
       "      <td>74051.000000</td>\n",
       "      <td>74051.000000</td>\n",
       "      <td>74051.000000</td>\n",
       "      <td>74051.000000</td>\n",
       "      <td>74051.000000</td>\n",
       "      <td>74051.000000</td>\n",
       "      <td>74051.000000</td>\n",
       "    </tr>\n",
       "    <tr>\n",
       "      <th>mean</th>\n",
       "      <td>1.944984</td>\n",
       "      <td>1.320807</td>\n",
       "      <td>1.026701</td>\n",
       "      <td>0.348602</td>\n",
       "      <td>23.160583</td>\n",
       "      <td>9.992670</td>\n",
       "      <td>5.008008</td>\n",
       "      <td>6.661799</td>\n",
       "      <td>9.899218</td>\n",
       "    </tr>\n",
       "    <tr>\n",
       "      <th>std</th>\n",
       "      <td>0.820647</td>\n",
       "      <td>0.265730</td>\n",
       "      <td>0.219540</td>\n",
       "      <td>0.083047</td>\n",
       "      <td>11.876372</td>\n",
       "      <td>5.232427</td>\n",
       "      <td>2.616342</td>\n",
       "      <td>3.348982</td>\n",
       "      <td>2.703859</td>\n",
       "    </tr>\n",
       "    <tr>\n",
       "      <th>min</th>\n",
       "      <td>1.000000</td>\n",
       "      <td>0.737500</td>\n",
       "      <td>0.550000</td>\n",
       "      <td>0.187500</td>\n",
       "      <td>3.600386</td>\n",
       "      <td>1.502523</td>\n",
       "      <td>0.793786</td>\n",
       "      <td>1.105630</td>\n",
       "      <td>6.000000</td>\n",
       "    </tr>\n",
       "    <tr>\n",
       "      <th>25%</th>\n",
       "      <td>1.000000</td>\n",
       "      <td>1.150000</td>\n",
       "      <td>0.887500</td>\n",
       "      <td>0.300000</td>\n",
       "      <td>13.437663</td>\n",
       "      <td>5.712424</td>\n",
       "      <td>2.863300</td>\n",
       "      <td>3.968930</td>\n",
       "      <td>8.000000</td>\n",
       "    </tr>\n",
       "    <tr>\n",
       "      <th>50%</th>\n",
       "      <td>2.000000</td>\n",
       "      <td>1.375000</td>\n",
       "      <td>1.075000</td>\n",
       "      <td>0.362500</td>\n",
       "      <td>23.799405</td>\n",
       "      <td>9.908150</td>\n",
       "      <td>4.989512</td>\n",
       "      <td>6.931453</td>\n",
       "      <td>10.000000</td>\n",
       "    </tr>\n",
       "    <tr>\n",
       "      <th>75%</th>\n",
       "      <td>3.000000</td>\n",
       "      <td>1.537500</td>\n",
       "      <td>1.200000</td>\n",
       "      <td>0.412500</td>\n",
       "      <td>32.162508</td>\n",
       "      <td>14.033003</td>\n",
       "      <td>6.988152</td>\n",
       "      <td>9.071840</td>\n",
       "      <td>11.000000</td>\n",
       "    </tr>\n",
       "    <tr>\n",
       "      <th>max</th>\n",
       "      <td>3.000000</td>\n",
       "      <td>1.675000</td>\n",
       "      <td>1.312500</td>\n",
       "      <td>0.475000</td>\n",
       "      <td>44.211045</td>\n",
       "      <td>19.376883</td>\n",
       "      <td>9.738053</td>\n",
       "      <td>12.757275</td>\n",
       "      <td>16.000000</td>\n",
       "    </tr>\n",
       "  </tbody>\n",
       "</table>\n",
       "</div>"
      ],
      "text/plain": [
       "                Sex        Length      Diameter        Height        Weight  \\\n",
       "count  74051.000000  74051.000000  74051.000000  74051.000000  74051.000000   \n",
       "mean       1.944984      1.320807      1.026701      0.348602     23.160583   \n",
       "std        0.820647      0.265730      0.219540      0.083047     11.876372   \n",
       "min        1.000000      0.737500      0.550000      0.187500      3.600386   \n",
       "25%        1.000000      1.150000      0.887500      0.300000     13.437663   \n",
       "50%        2.000000      1.375000      1.075000      0.362500     23.799405   \n",
       "75%        3.000000      1.537500      1.200000      0.412500     32.162508   \n",
       "max        3.000000      1.675000      1.312500      0.475000     44.211045   \n",
       "\n",
       "       Shucked Weight  Viscera Weight  Shell Weight           Age  \n",
       "count    74051.000000    74051.000000  74051.000000  74051.000000  \n",
       "mean         9.992670        5.008008      6.661799      9.899218  \n",
       "std          5.232427        2.616342      3.348982      2.703859  \n",
       "min          1.502523        0.793786      1.105630      6.000000  \n",
       "25%          5.712424        2.863300      3.968930      8.000000  \n",
       "50%          9.908150        4.989512      6.931453     10.000000  \n",
       "75%         14.033003        6.988152      9.071840     11.000000  \n",
       "max         19.376883        9.738053     12.757275     16.000000  "
      ]
     },
     "execution_count": 50,
     "metadata": {},
     "output_type": "execute_result"
    }
   ],
   "source": [
    "df. describe()"
   ]
  },
  {
   "cell_type": "code",
   "execution_count": 51,
   "id": "66a5fce3",
   "metadata": {},
   "outputs": [],
   "source": [
    "from tensorflow.keras.models import Sequential\n",
    "from tensorflow.keras.layers import Dense\n",
    "from tensorflow.keras.layers import ReLU\n",
    "from tensorflow.keras.layers import Dropout\n",
    "from sklearn.model_selection import train_test_split"
   ]
  },
  {
   "cell_type": "code",
   "execution_count": 52,
   "id": "d36e0047",
   "metadata": {},
   "outputs": [],
   "source": [
    "#seperating target and input data\n",
    "x=df. drop(\"Age\",axis=1)\n",
    "y=df. Age"
   ]
  },
  {
   "cell_type": "code",
   "execution_count": 53,
   "id": "e30e2dfd",
   "metadata": {},
   "outputs": [
    {
     "data": {
      "text/plain": [
       "(51835, 8)"
      ]
     },
     "execution_count": 53,
     "metadata": {},
     "output_type": "execute_result"
    }
   ],
   "source": [
    "#splitting data into train and test\n",
    "from sklearn.model_selection import train_test_split\n",
    "x_train,x_test,y_train,y_test = train_test_split(x,y,test_size=0.3,random_state =1)\n",
    "x_train.shape"
   ]
  },
  {
   "cell_type": "code",
   "execution_count": 54,
   "id": "8fc4754f",
   "metadata": {},
   "outputs": [],
   "source": [
    "#defining model\n",
    "def design_mlp():\n",
    "    # Initializing the model \n",
    "    model = Sequential()\n",
    "    model.add(Dense(15,input_dim =8,activation=\"relu\"))\n",
    "    model.add(Dense(50,activation=\"relu\"))\n",
    "    model.add(Dense(7,activation=\"relu\"))\n",
    "    model.add(Dense(1,activation=\"relu\"))\n",
    "    model.compile(loss=\"mean_squared_error\",optimizer=\"RMSprop\",metrics=[\"RootMeanSquaredError\"])\n",
    "    return model\n",
    "\n",
    "model = design_mlp()"
   ]
  },
  {
   "cell_type": "code",
   "execution_count": 55,
   "id": "d786f675",
   "metadata": {},
   "outputs": [
    {
     "name": "stdout",
     "output_type": "stream",
     "text": [
      "Model: \"sequential\"\n",
      "_________________________________________________________________\n",
      " Layer (type)                Output Shape              Param #   \n",
      "=================================================================\n",
      " dense (Dense)               (None, 15)                135       \n",
      "                                                                 \n",
      " dense_1 (Dense)             (None, 50)                800       \n",
      "                                                                 \n",
      " dense_2 (Dense)             (None, 7)                 357       \n",
      "                                                                 \n",
      " dense_3 (Dense)             (None, 1)                 8         \n",
      "                                                                 \n",
      "=================================================================\n",
      "Total params: 1,300\n",
      "Trainable params: 1,300\n",
      "Non-trainable params: 0\n",
      "_________________________________________________________________\n"
     ]
    }
   ],
   "source": [
    "model.summary()"
   ]
  },
  {
   "cell_type": "code",
   "execution_count": 57,
   "id": "9fdbc82e",
   "metadata": {},
   "outputs": [
    {
     "name": "stdout",
     "output_type": "stream",
     "text": [
      "Epoch 1/50\n",
      "51835/51835 [==============================] - 96s 2ms/step - loss: 3.3665 - root_mean_squared_error: 1.8348\n",
      "Epoch 2/50\n",
      "51835/51835 [==============================] - 93s 2ms/step - loss: 3.3091 - root_mean_squared_error: 1.8191\n",
      "Epoch 3/50\n",
      "51835/51835 [==============================] - 91s 2ms/step - loss: 3.2839 - root_mean_squared_error: 1.8122\n",
      "Epoch 4/50\n",
      "51835/51835 [==============================] - 94s 2ms/step - loss: 3.3318 - root_mean_squared_error: 1.8253\n",
      "Epoch 5/50\n",
      "51835/51835 [==============================] - 92s 2ms/step - loss: 3.3234 - root_mean_squared_error: 1.8230\n",
      "Epoch 6/50\n",
      "51835/51835 [==============================] - 91s 2ms/step - loss: 3.2884 - root_mean_squared_error: 1.8134\n",
      "Epoch 7/50\n",
      "51835/51835 [==============================] - 92s 2ms/step - loss: 3.2829 - root_mean_squared_error: 1.8119\n",
      "Epoch 8/50\n",
      "51835/51835 [==============================] - 92s 2ms/step - loss: 3.3144 - root_mean_squared_error: 1.8206\n",
      "Epoch 9/50\n",
      "51835/51835 [==============================] - 90s 2ms/step - loss: 3.3201 - root_mean_squared_error: 1.8221\n",
      "Epoch 10/50\n",
      "51835/51835 [==============================] - 90s 2ms/step - loss: 3.2835 - root_mean_squared_error: 1.8121\n",
      "Epoch 11/50\n",
      "51835/51835 [==============================] - 92s 2ms/step - loss: 3.2991 - root_mean_squared_error: 1.8163\n",
      "Epoch 12/50\n",
      "51835/51835 [==============================] - 92s 2ms/step - loss: 3.2977 - root_mean_squared_error: 1.8159\n",
      "Epoch 13/50\n",
      "51835/51835 [==============================] - 93s 2ms/step - loss: 3.2876 - root_mean_squared_error: 1.8132\n",
      "Epoch 14/50\n",
      "51835/51835 [==============================] - 92s 2ms/step - loss: 3.3162 - root_mean_squared_error: 1.8210\n",
      "Epoch 15/50\n",
      "51835/51835 [==============================] - 98s 2ms/step - loss: 3.2938 - root_mean_squared_error: 1.8149\n",
      "Epoch 16/50\n",
      "51835/51835 [==============================] - 91s 2ms/step - loss: 3.2927 - root_mean_squared_error: 1.8146\n",
      "Epoch 17/50\n",
      "51835/51835 [==============================] - 92s 2ms/step - loss: 3.2864 - root_mean_squared_error: 1.8128\n",
      "Epoch 18/50\n",
      "51835/51835 [==============================] - 93s 2ms/step - loss: 3.3121 - root_mean_squared_error: 1.8199\n",
      "Epoch 19/50\n",
      "51835/51835 [==============================] - 91s 2ms/step - loss: 3.3281 - root_mean_squared_error: 1.8243\n",
      "Epoch 20/50\n",
      "51835/51835 [==============================] - 90s 2ms/step - loss: 3.3346 - root_mean_squared_error: 1.8261\n",
      "Epoch 21/50\n",
      "51835/51835 [==============================] - 92s 2ms/step - loss: 3.3360 - root_mean_squared_error: 1.8265\n",
      "Epoch 22/50\n",
      "51835/51835 [==============================] - 91s 2ms/step - loss: 3.3017 - root_mean_squared_error: 1.8171\n",
      "Epoch 23/50\n",
      "51835/51835 [==============================] - 91s 2ms/step - loss: 3.3123 - root_mean_squared_error: 1.8200\n",
      "Epoch 24/50\n",
      "51835/51835 [==============================] - 91s 2ms/step - loss: 3.2925 - root_mean_squared_error: 1.8145\n",
      "Epoch 25/50\n",
      "51835/51835 [==============================] - 92s 2ms/step - loss: 3.3053 - root_mean_squared_error: 1.8181\n",
      "Epoch 26/50\n",
      "51835/51835 [==============================] - 92s 2ms/step - loss: 3.2964 - root_mean_squared_error: 1.8156\n",
      "Epoch 27/50\n",
      "51835/51835 [==============================] - 93s 2ms/step - loss: 3.3091 - root_mean_squared_error: 1.8191\n",
      "Epoch 28/50\n",
      "51835/51835 [==============================] - 91s 2ms/step - loss: 3.2808 - root_mean_squared_error: 1.8113\n",
      "Epoch 29/50\n",
      "51835/51835 [==============================] - 92s 2ms/step - loss: 3.2635 - root_mean_squared_error: 1.8065\n",
      "Epoch 30/50\n",
      "51835/51835 [==============================] - 93s 2ms/step - loss: 3.2713 - root_mean_squared_error: 1.8087\n",
      "Epoch 31/50\n",
      "51835/51835 [==============================] - 92s 2ms/step - loss: 3.2803 - root_mean_squared_error: 1.8112\n",
      "Epoch 32/50\n",
      "51835/51835 [==============================] - 81s 2ms/step - loss: 3.2714 - root_mean_squared_error: 1.8087\n",
      "Epoch 33/50\n",
      "51835/51835 [==============================] - 59s 1ms/step - loss: 3.2645 - root_mean_squared_error: 1.8068\n",
      "Epoch 34/50\n",
      "51835/51835 [==============================] - 61s 1ms/step - loss: 3.2794 - root_mean_squared_error: 1.8109\n",
      "Epoch 35/50\n",
      "51835/51835 [==============================] - 58s 1ms/step - loss: 3.2801 - root_mean_squared_error: 1.8111\n",
      "Epoch 36/50\n",
      "51835/51835 [==============================] - 58s 1ms/step - loss: 3.2584 - root_mean_squared_error: 1.8051\n",
      "Epoch 37/50\n",
      "51835/51835 [==============================] - 59s 1ms/step - loss: 3.2702 - root_mean_squared_error: 1.8084\n",
      "Epoch 38/50\n",
      "51835/51835 [==============================] - 59s 1ms/step - loss: 3.2502 - root_mean_squared_error: 1.8028\n",
      "Epoch 39/50\n",
      "51835/51835 [==============================] - 61s 1ms/step - loss: 3.2687 - root_mean_squared_error: 1.8080\n",
      "Epoch 40/50\n",
      "51835/51835 [==============================] - 62s 1ms/step - loss: 3.2670 - root_mean_squared_error: 1.8075\n",
      "Epoch 41/50\n",
      "51835/51835 [==============================] - 62s 1ms/step - loss: 3.2861 - root_mean_squared_error: 1.8128\n",
      "Epoch 42/50\n",
      "51835/51835 [==============================] - 61s 1ms/step - loss: 3.2708 - root_mean_squared_error: 1.8085\n",
      "Epoch 43/50\n",
      "51835/51835 [==============================] - 61s 1ms/step - loss: 3.2720 - root_mean_squared_error: 1.8089\n",
      "Epoch 44/50\n",
      "51835/51835 [==============================] - 60s 1ms/step - loss: 3.2632 - root_mean_squared_error: 1.8064\n",
      "Epoch 45/50\n",
      "51835/51835 [==============================] - 59s 1ms/step - loss: 3.2500 - root_mean_squared_error: 1.8028\n",
      "Epoch 46/50\n",
      "51835/51835 [==============================] - 60s 1ms/step - loss: 3.2678 - root_mean_squared_error: 1.8077\n",
      "Epoch 47/50\n",
      "51835/51835 [==============================] - 60s 1ms/step - loss: 3.2953 - root_mean_squared_error: 1.8153\n",
      "Epoch 48/50\n",
      "51835/51835 [==============================] - 61s 1ms/step - loss: 3.3226 - root_mean_squared_error: 1.8228\n",
      "Epoch 49/50\n",
      "51835/51835 [==============================] - 60s 1ms/step - loss: 3.3194 - root_mean_squared_error: 1.8219\n",
      "Epoch 50/50\n",
      "51835/51835 [==============================] - 60s 1ms/step - loss: 3.3148 - root_mean_squared_error: 1.8207\n"
     ]
    },
    {
     "data": {
      "text/plain": [
       "<keras.callbacks.History at 0x19531dadc10>"
      ]
     },
     "execution_count": 57,
     "metadata": {},
     "output_type": "execute_result"
    }
   ],
   "source": [
    "#fitting model\n",
    "model.fit(x=x_train,y=y_train,batch_size=1,epochs=50)"
   ]
  },
  {
   "cell_type": "code",
   "execution_count": 71,
   "id": "43cc2510",
   "metadata": {},
   "outputs": [
    {
     "name": "stdout",
     "output_type": "stream",
     "text": [
      "695/695 [==============================] - 1s 1ms/step - loss: 3.3376 - root_mean_squared_error: 1.8269\n"
     ]
    },
    {
     "data": {
      "text/plain": [
       "[3.3375775814056396, 1.8269038200378418]"
      ]
     },
     "execution_count": 71,
     "metadata": {},
     "output_type": "execute_result"
    }
   ],
   "source": [
    "model.evaluate(x_test,y_test)"
   ]
  },
  {
   "cell_type": "code",
   "execution_count": 58,
   "id": "8b4d1336",
   "metadata": {},
   "outputs": [],
   "source": [
    "df1 = pd. read_csv(\"crabage_test.csv\")"
   ]
  },
  {
   "cell_type": "code",
   "execution_count": 59,
   "id": "0f8449cb",
   "metadata": {},
   "outputs": [
    {
     "data": {
      "text/html": [
       "<div>\n",
       "<style scoped>\n",
       "    .dataframe tbody tr th:only-of-type {\n",
       "        vertical-align: middle;\n",
       "    }\n",
       "\n",
       "    .dataframe tbody tr th {\n",
       "        vertical-align: top;\n",
       "    }\n",
       "\n",
       "    .dataframe thead th {\n",
       "        text-align: right;\n",
       "    }\n",
       "</style>\n",
       "<table border=\"1\" class=\"dataframe\">\n",
       "  <thead>\n",
       "    <tr style=\"text-align: right;\">\n",
       "      <th></th>\n",
       "      <th>id</th>\n",
       "      <th>Sex</th>\n",
       "      <th>Length</th>\n",
       "      <th>Diameter</th>\n",
       "      <th>Height</th>\n",
       "      <th>Weight</th>\n",
       "      <th>Shucked Weight</th>\n",
       "      <th>Viscera Weight</th>\n",
       "      <th>Shell Weight</th>\n",
       "    </tr>\n",
       "  </thead>\n",
       "  <tbody>\n",
       "    <tr>\n",
       "      <th>0</th>\n",
       "      <td>74051</td>\n",
       "      <td>I</td>\n",
       "      <td>1.0500</td>\n",
       "      <td>0.7625</td>\n",
       "      <td>0.2750</td>\n",
       "      <td>8.618248</td>\n",
       "      <td>3.657085</td>\n",
       "      <td>1.729319</td>\n",
       "      <td>2.721552</td>\n",
       "    </tr>\n",
       "    <tr>\n",
       "      <th>1</th>\n",
       "      <td>74052</td>\n",
       "      <td>I</td>\n",
       "      <td>1.1625</td>\n",
       "      <td>0.8875</td>\n",
       "      <td>0.2750</td>\n",
       "      <td>15.507176</td>\n",
       "      <td>7.030676</td>\n",
       "      <td>3.246018</td>\n",
       "      <td>3.968930</td>\n",
       "    </tr>\n",
       "    <tr>\n",
       "      <th>2</th>\n",
       "      <td>74053</td>\n",
       "      <td>F</td>\n",
       "      <td>1.2875</td>\n",
       "      <td>0.9875</td>\n",
       "      <td>0.3250</td>\n",
       "      <td>14.571643</td>\n",
       "      <td>5.556502</td>\n",
       "      <td>3.883882</td>\n",
       "      <td>4.819415</td>\n",
       "    </tr>\n",
       "    <tr>\n",
       "      <th>3</th>\n",
       "      <td>74054</td>\n",
       "      <td>F</td>\n",
       "      <td>1.5500</td>\n",
       "      <td>0.9875</td>\n",
       "      <td>0.3875</td>\n",
       "      <td>28.377849</td>\n",
       "      <td>13.380964</td>\n",
       "      <td>6.548735</td>\n",
       "      <td>7.030676</td>\n",
       "    </tr>\n",
       "    <tr>\n",
       "      <th>4</th>\n",
       "      <td>74055</td>\n",
       "      <td>I</td>\n",
       "      <td>1.1125</td>\n",
       "      <td>0.8500</td>\n",
       "      <td>0.2625</td>\n",
       "      <td>11.765042</td>\n",
       "      <td>5.528153</td>\n",
       "      <td>2.466407</td>\n",
       "      <td>3.331066</td>\n",
       "    </tr>\n",
       "  </tbody>\n",
       "</table>\n",
       "</div>"
      ],
      "text/plain": [
       "      id Sex  Length  Diameter  Height     Weight  Shucked Weight  \\\n",
       "0  74051   I  1.0500    0.7625  0.2750   8.618248        3.657085   \n",
       "1  74052   I  1.1625    0.8875  0.2750  15.507176        7.030676   \n",
       "2  74053   F  1.2875    0.9875  0.3250  14.571643        5.556502   \n",
       "3  74054   F  1.5500    0.9875  0.3875  28.377849       13.380964   \n",
       "4  74055   I  1.1125    0.8500  0.2625  11.765042        5.528153   \n",
       "\n",
       "   Viscera Weight  Shell Weight  \n",
       "0        1.729319      2.721552  \n",
       "1        3.246018      3.968930  \n",
       "2        3.883882      4.819415  \n",
       "3        6.548735      7.030676  \n",
       "4        2.466407      3.331066  "
      ]
     },
     "execution_count": 59,
     "metadata": {},
     "output_type": "execute_result"
    }
   ],
   "source": [
    "df1. head()"
   ]
  },
  {
   "cell_type": "code",
   "execution_count": 60,
   "id": "3782de2f",
   "metadata": {},
   "outputs": [],
   "source": [
    "df1 = df1. drop([\"id\"], axis = 1)"
   ]
  },
  {
   "cell_type": "code",
   "execution_count": 61,
   "id": "d510f4d4",
   "metadata": {},
   "outputs": [],
   "source": [
    "# Create a mapping dictionary\n",
    "mapping = {'M': 1, 'I': 2, 'F': 3}"
   ]
  },
  {
   "cell_type": "code",
   "execution_count": 62,
   "id": "98461856",
   "metadata": {},
   "outputs": [],
   "source": [
    "# Apply the map function to convert the categorical column to numerical\n",
    "df1['Sex'] = df1['Sex'].map(mapping)"
   ]
  },
  {
   "cell_type": "code",
   "execution_count": 63,
   "id": "5e39dc68",
   "metadata": {},
   "outputs": [
    {
     "name": "stdout",
     "output_type": "stream",
     "text": [
      "1543/1543 [==============================] - 2s 1ms/step\n"
     ]
    }
   ],
   "source": [
    "prediction = model.predict(df1)"
   ]
  },
  {
   "cell_type": "code",
   "execution_count": 65,
   "id": "dd3b0cf8",
   "metadata": {},
   "outputs": [],
   "source": [
    "submission = pd. read_csv(\"E:\\LiveProject\\playground-series-s3e16_crab_age\\sample_submission.csv\")"
   ]
  },
  {
   "cell_type": "code",
   "execution_count": 67,
   "id": "c9c265e3",
   "metadata": {},
   "outputs": [],
   "source": [
    "submission[\"Age\"]=prediction"
   ]
  },
  {
   "cell_type": "code",
   "execution_count": 68,
   "id": "68cb0443",
   "metadata": {},
   "outputs": [
    {
     "data": {
      "text/html": [
       "<div>\n",
       "<style scoped>\n",
       "    .dataframe tbody tr th:only-of-type {\n",
       "        vertical-align: middle;\n",
       "    }\n",
       "\n",
       "    .dataframe tbody tr th {\n",
       "        vertical-align: top;\n",
       "    }\n",
       "\n",
       "    .dataframe thead th {\n",
       "        text-align: right;\n",
       "    }\n",
       "</style>\n",
       "<table border=\"1\" class=\"dataframe\">\n",
       "  <thead>\n",
       "    <tr style=\"text-align: right;\">\n",
       "      <th></th>\n",
       "      <th>id</th>\n",
       "      <th>Age</th>\n",
       "    </tr>\n",
       "  </thead>\n",
       "  <tbody>\n",
       "    <tr>\n",
       "      <th>0</th>\n",
       "      <td>74051</td>\n",
       "      <td>7.416820</td>\n",
       "    </tr>\n",
       "    <tr>\n",
       "      <th>1</th>\n",
       "      <td>74052</td>\n",
       "      <td>7.752524</td>\n",
       "    </tr>\n",
       "    <tr>\n",
       "      <th>2</th>\n",
       "      <td>74053</td>\n",
       "      <td>9.511846</td>\n",
       "    </tr>\n",
       "    <tr>\n",
       "      <th>3</th>\n",
       "      <td>74054</td>\n",
       "      <td>9.326479</td>\n",
       "    </tr>\n",
       "    <tr>\n",
       "      <th>4</th>\n",
       "      <td>74055</td>\n",
       "      <td>7.306504</td>\n",
       "    </tr>\n",
       "    <tr>\n",
       "      <th>...</th>\n",
       "      <td>...</td>\n",
       "      <td>...</td>\n",
       "    </tr>\n",
       "    <tr>\n",
       "      <th>49363</th>\n",
       "      <td>123414</td>\n",
       "      <td>8.473825</td>\n",
       "    </tr>\n",
       "    <tr>\n",
       "      <th>49364</th>\n",
       "      <td>123415</td>\n",
       "      <td>7.800576</td>\n",
       "    </tr>\n",
       "    <tr>\n",
       "      <th>49365</th>\n",
       "      <td>123416</td>\n",
       "      <td>13.396875</td>\n",
       "    </tr>\n",
       "    <tr>\n",
       "      <th>49366</th>\n",
       "      <td>123417</td>\n",
       "      <td>9.197027</td>\n",
       "    </tr>\n",
       "    <tr>\n",
       "      <th>49367</th>\n",
       "      <td>123418</td>\n",
       "      <td>12.279977</td>\n",
       "    </tr>\n",
       "  </tbody>\n",
       "</table>\n",
       "<p>49368 rows × 2 columns</p>\n",
       "</div>"
      ],
      "text/plain": [
       "           id        Age\n",
       "0       74051   7.416820\n",
       "1       74052   7.752524\n",
       "2       74053   9.511846\n",
       "3       74054   9.326479\n",
       "4       74055   7.306504\n",
       "...       ...        ...\n",
       "49363  123414   8.473825\n",
       "49364  123415   7.800576\n",
       "49365  123416  13.396875\n",
       "49366  123417   9.197027\n",
       "49367  123418  12.279977\n",
       "\n",
       "[49368 rows x 2 columns]"
      ]
     },
     "execution_count": 68,
     "metadata": {},
     "output_type": "execute_result"
    }
   ],
   "source": [
    "submission"
   ]
  },
  {
   "cell_type": "code",
   "execution_count": 69,
   "id": "5e43d854",
   "metadata": {},
   "outputs": [],
   "source": [
    "submission.to_csv(\"Crab_age.csv\", index=False)"
   ]
  },
  {
   "cell_type": "code",
   "execution_count": 70,
   "id": "1aec6bc9",
   "metadata": {},
   "outputs": [
    {
     "name": "stdout",
     "output_type": "stream",
     "text": [
      "INFO:tensorflow:Assets written to: ram://955e9190-1e25-4066-8469-b3a764ad1b6e/assets\n"
     ]
    }
   ],
   "source": [
    "import pickle \n",
    "pickle. dump(model,open(\"crab_age.pickle\",\"wb\"))"
   ]
  },
  {
   "cell_type": "code",
   "execution_count": null,
   "id": "4a32cc05",
   "metadata": {},
   "outputs": [],
   "source": []
  }
 ],
 "metadata": {
  "kernelspec": {
   "display_name": "Python 3 (ipykernel)",
   "language": "python",
   "name": "python3"
  },
  "language_info": {
   "codemirror_mode": {
    "name": "ipython",
    "version": 3
   },
   "file_extension": ".py",
   "mimetype": "text/x-python",
   "name": "python",
   "nbconvert_exporter": "python",
   "pygments_lexer": "ipython3",
   "version": "3.9.12"
  }
 },
 "nbformat": 4,
 "nbformat_minor": 5
}
